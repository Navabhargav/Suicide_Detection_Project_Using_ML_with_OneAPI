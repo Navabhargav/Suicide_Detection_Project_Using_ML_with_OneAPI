{
 "cells": [
  {
   "cell_type": "code",
   "execution_count": 75,
   "id": "fa3112bf",
   "metadata": {},
   "outputs": [],
   "source": [
    "import torch"
   ]
  },
  {
   "cell_type": "code",
   "execution_count": 76,
   "id": "e92ecb8b",
   "metadata": {},
   "outputs": [
    {
     "data": {
      "text/plain": [
       "'1.5.0'"
      ]
     },
     "execution_count": 76,
     "metadata": {},
     "output_type": "execute_result"
    }
   ],
   "source": [
    "torch.__version__"
   ]
  },
  {
   "cell_type": "code",
   "execution_count": 77,
   "id": "a6ffa2b5",
   "metadata": {},
   "outputs": [],
   "source": [
    "from torchtext import data"
   ]
  },
  {
   "cell_type": "code",
   "execution_count": 78,
   "id": "e9736aff",
   "metadata": {},
   "outputs": [],
   "source": [
    "#importing data\n",
    "import pandas as pd\n",
    "df = pd.read_csv(\"500_anonymized_Reddit_users_posts_labels - 500_anonymized_Reddit_users_posts_labels.csv\")"
   ]
  },
  {
   "cell_type": "code",
   "execution_count": 79,
   "id": "2504a2a5",
   "metadata": {},
   "outputs": [
    {
     "data": {
      "text/html": [
       "<div>\n",
       "<style scoped>\n",
       "    .dataframe tbody tr th:only-of-type {\n",
       "        vertical-align: middle;\n",
       "    }\n",
       "\n",
       "    .dataframe tbody tr th {\n",
       "        vertical-align: top;\n",
       "    }\n",
       "\n",
       "    .dataframe thead th {\n",
       "        text-align: right;\n",
       "    }\n",
       "</style>\n",
       "<table border=\"1\" class=\"dataframe\">\n",
       "  <thead>\n",
       "    <tr style=\"text-align: right;\">\n",
       "      <th></th>\n",
       "      <th>User</th>\n",
       "      <th>Post</th>\n",
       "      <th>Label</th>\n",
       "    </tr>\n",
       "  </thead>\n",
       "  <tbody>\n",
       "    <tr>\n",
       "      <th>0</th>\n",
       "      <td>user-0</td>\n",
       "      <td>['Its not a viable option, and youll be leavin...</td>\n",
       "      <td>Supportive</td>\n",
       "    </tr>\n",
       "    <tr>\n",
       "      <th>1</th>\n",
       "      <td>user-1</td>\n",
       "      <td>['It can be hard to appreciate the notion that...</td>\n",
       "      <td>Ideation</td>\n",
       "    </tr>\n",
       "    <tr>\n",
       "      <th>2</th>\n",
       "      <td>user-2</td>\n",
       "      <td>['Hi, so last night i was sitting on the ledge...</td>\n",
       "      <td>Behavior</td>\n",
       "    </tr>\n",
       "    <tr>\n",
       "      <th>3</th>\n",
       "      <td>user-3</td>\n",
       "      <td>['I tried to kill my self once and failed badl...</td>\n",
       "      <td>Attempt</td>\n",
       "    </tr>\n",
       "    <tr>\n",
       "      <th>4</th>\n",
       "      <td>user-4</td>\n",
       "      <td>['Hi NEM3030. What sorts of things do you enjo...</td>\n",
       "      <td>Ideation</td>\n",
       "    </tr>\n",
       "    <tr>\n",
       "      <th>5</th>\n",
       "      <td>user-5</td>\n",
       "      <td>['Since I dont know what DBT is, would you min...</td>\n",
       "      <td>Supportive</td>\n",
       "    </tr>\n",
       "    <tr>\n",
       "      <th>6</th>\n",
       "      <td>user-6</td>\n",
       "      <td>['No matter what you ever think, there will be...</td>\n",
       "      <td>Supportive</td>\n",
       "    </tr>\n",
       "    <tr>\n",
       "      <th>7</th>\n",
       "      <td>user-7</td>\n",
       "      <td>['Dont see it as failing at killing yourself, ...</td>\n",
       "      <td>Ideation</td>\n",
       "    </tr>\n",
       "    <tr>\n",
       "      <th>8</th>\n",
       "      <td>user-8</td>\n",
       "      <td>['The reason I have faith in our species abili...</td>\n",
       "      <td>Supportive</td>\n",
       "    </tr>\n",
       "    <tr>\n",
       "      <th>9</th>\n",
       "      <td>user-9</td>\n",
       "      <td>['A book is usually what I do when Im getting ...</td>\n",
       "      <td>Ideation</td>\n",
       "    </tr>\n",
       "    <tr>\n",
       "      <th>10</th>\n",
       "      <td>user-10</td>\n",
       "      <td>['Dont do it man.  Seriously this is making me...</td>\n",
       "      <td>Indicator</td>\n",
       "    </tr>\n",
       "    <tr>\n",
       "      <th>11</th>\n",
       "      <td>user-11</td>\n",
       "      <td>['Whats up? Tell me. Im here for you. ', 'Wow....</td>\n",
       "      <td>Supportive</td>\n",
       "    </tr>\n",
       "    <tr>\n",
       "      <th>12</th>\n",
       "      <td>user-12</td>\n",
       "      <td>['I wish I could give a shit about what would ...</td>\n",
       "      <td>Behavior</td>\n",
       "    </tr>\n",
       "    <tr>\n",
       "      <th>13</th>\n",
       "      <td>user-13</td>\n",
       "      <td>['I have one question for you: whatre your int...</td>\n",
       "      <td>Ideation</td>\n",
       "    </tr>\n",
       "    <tr>\n",
       "      <th>14</th>\n",
       "      <td>user-14</td>\n",
       "      <td>['You are not alone, my dear. You have two par...</td>\n",
       "      <td>Ideation</td>\n",
       "    </tr>\n",
       "    <tr>\n",
       "      <th>15</th>\n",
       "      <td>user-15</td>\n",
       "      <td>['No you are not bothering anyone. View it lik...</td>\n",
       "      <td>Behavior</td>\n",
       "    </tr>\n",
       "    <tr>\n",
       "      <th>16</th>\n",
       "      <td>user-16</td>\n",
       "      <td>['oh, doh.I had someone tell me similar recent...</td>\n",
       "      <td>Ideation</td>\n",
       "    </tr>\n",
       "    <tr>\n",
       "      <th>17</th>\n",
       "      <td>user-17</td>\n",
       "      <td>['Im interested, since youve pretty much descr...</td>\n",
       "      <td>Behavior</td>\n",
       "    </tr>\n",
       "    <tr>\n",
       "      <th>18</th>\n",
       "      <td>user-18</td>\n",
       "      <td>['No need for thanks it just makes me happy th...</td>\n",
       "      <td>Attempt</td>\n",
       "    </tr>\n",
       "    <tr>\n",
       "      <th>19</th>\n",
       "      <td>user-19</td>\n",
       "      <td>['Live for others you say?', 'My trigger. Well...</td>\n",
       "      <td>Ideation</td>\n",
       "    </tr>\n",
       "  </tbody>\n",
       "</table>\n",
       "</div>"
      ],
      "text/plain": [
       "       User                                               Post       Label\n",
       "0    user-0  ['Its not a viable option, and youll be leavin...  Supportive\n",
       "1    user-1  ['It can be hard to appreciate the notion that...    Ideation\n",
       "2    user-2  ['Hi, so last night i was sitting on the ledge...    Behavior\n",
       "3    user-3  ['I tried to kill my self once and failed badl...     Attempt\n",
       "4    user-4  ['Hi NEM3030. What sorts of things do you enjo...    Ideation\n",
       "5    user-5  ['Since I dont know what DBT is, would you min...  Supportive\n",
       "6    user-6  ['No matter what you ever think, there will be...  Supportive\n",
       "7    user-7  ['Dont see it as failing at killing yourself, ...    Ideation\n",
       "8    user-8  ['The reason I have faith in our species abili...  Supportive\n",
       "9    user-9  ['A book is usually what I do when Im getting ...    Ideation\n",
       "10  user-10  ['Dont do it man.  Seriously this is making me...   Indicator\n",
       "11  user-11  ['Whats up? Tell me. Im here for you. ', 'Wow....  Supportive\n",
       "12  user-12  ['I wish I could give a shit about what would ...    Behavior\n",
       "13  user-13  ['I have one question for you: whatre your int...    Ideation\n",
       "14  user-14  ['You are not alone, my dear. You have two par...    Ideation\n",
       "15  user-15  ['No you are not bothering anyone. View it lik...    Behavior\n",
       "16  user-16  ['oh, doh.I had someone tell me similar recent...    Ideation\n",
       "17  user-17  ['Im interested, since youve pretty much descr...    Behavior\n",
       "18  user-18  ['No need for thanks it just makes me happy th...     Attempt\n",
       "19  user-19  ['Live for others you say?', 'My trigger. Well...    Ideation"
      ]
     },
     "execution_count": 79,
     "metadata": {},
     "output_type": "execute_result"
    }
   ],
   "source": [
    "df.head(20)"
   ]
  },
  {
   "cell_type": "code",
   "execution_count": 80,
   "id": "e65187d8",
   "metadata": {},
   "outputs": [
    {
     "data": {
      "text/html": [
       "<div>\n",
       "<style scoped>\n",
       "    .dataframe tbody tr th:only-of-type {\n",
       "        vertical-align: middle;\n",
       "    }\n",
       "\n",
       "    .dataframe tbody tr th {\n",
       "        vertical-align: top;\n",
       "    }\n",
       "\n",
       "    .dataframe thead th {\n",
       "        text-align: right;\n",
       "    }\n",
       "</style>\n",
       "<table border=\"1\" class=\"dataframe\">\n",
       "  <thead>\n",
       "    <tr style=\"text-align: right;\">\n",
       "      <th></th>\n",
       "      <th>Post</th>\n",
       "      <th>Label</th>\n",
       "    </tr>\n",
       "  </thead>\n",
       "  <tbody>\n",
       "    <tr>\n",
       "      <th>0</th>\n",
       "      <td>['Its not a viable option, and youll be leavin...</td>\n",
       "      <td>Supportive</td>\n",
       "    </tr>\n",
       "    <tr>\n",
       "      <th>1</th>\n",
       "      <td>['It can be hard to appreciate the notion that...</td>\n",
       "      <td>Ideation</td>\n",
       "    </tr>\n",
       "    <tr>\n",
       "      <th>2</th>\n",
       "      <td>['Hi, so last night i was sitting on the ledge...</td>\n",
       "      <td>Behavior</td>\n",
       "    </tr>\n",
       "    <tr>\n",
       "      <th>3</th>\n",
       "      <td>['I tried to kill my self once and failed badl...</td>\n",
       "      <td>Attempt</td>\n",
       "    </tr>\n",
       "    <tr>\n",
       "      <th>4</th>\n",
       "      <td>['Hi NEM3030. What sorts of things do you enjo...</td>\n",
       "      <td>Ideation</td>\n",
       "    </tr>\n",
       "  </tbody>\n",
       "</table>\n",
       "</div>"
      ],
      "text/plain": [
       "                                                Post       Label\n",
       "0  ['Its not a viable option, and youll be leavin...  Supportive\n",
       "1  ['It can be hard to appreciate the notion that...    Ideation\n",
       "2  ['Hi, so last night i was sitting on the ledge...    Behavior\n",
       "3  ['I tried to kill my self once and failed badl...     Attempt\n",
       "4  ['Hi NEM3030. What sorts of things do you enjo...    Ideation"
      ]
     },
     "execution_count": 80,
     "metadata": {},
     "output_type": "execute_result"
    }
   ],
   "source": [
    "df.drop(\"User\",inplace=True,axis=1)\n",
    "df.head(5)"
   ]
  },
  {
   "cell_type": "code",
   "execution_count": 81,
   "id": "60a90638",
   "metadata": {},
   "outputs": [
    {
     "data": {
      "text/plain": [
       "Label\n",
       "Ideation      171\n",
       "Supportive    108\n",
       "Indicator      99\n",
       "Behavior       77\n",
       "Attempt        45\n",
       "Name: count, dtype: int64"
      ]
     },
     "execution_count": 81,
     "metadata": {},
     "output_type": "execute_result"
    }
   ],
   "source": [
    "df.Label.value_counts()"
   ]
  },
  {
   "cell_type": "code",
   "execution_count": 82,
   "id": "7865a89d",
   "metadata": {},
   "outputs": [
    {
     "data": {
      "text/plain": [
       "array(['Supportive', 'Ideation', 'Behavior', 'Attempt', 'Indicator'],\n",
       "      dtype=object)"
      ]
     },
     "execution_count": 82,
     "metadata": {},
     "output_type": "execute_result"
    }
   ],
   "source": [
    "df.Label.unique()"
   ]
  },
  {
   "cell_type": "code",
   "execution_count": 89,
   "id": "10fc4adb",
   "metadata": {},
   "outputs": [
    {
     "data": {
      "text/html": [
       "<div>\n",
       "<style scoped>\n",
       "    .dataframe tbody tr th:only-of-type {\n",
       "        vertical-align: middle;\n",
       "    }\n",
       "\n",
       "    .dataframe tbody tr th {\n",
       "        vertical-align: top;\n",
       "    }\n",
       "\n",
       "    .dataframe thead th {\n",
       "        text-align: right;\n",
       "    }\n",
       "</style>\n",
       "<table border=\"1\" class=\"dataframe\">\n",
       "  <thead>\n",
       "    <tr style=\"text-align: right;\">\n",
       "      <th></th>\n",
       "      <th>Post</th>\n",
       "      <th>Label</th>\n",
       "    </tr>\n",
       "  </thead>\n",
       "  <tbody>\n",
       "    <tr>\n",
       "      <th>0</th>\n",
       "      <td>['Its not a viable option, and youll be leavin...</td>\n",
       "      <td>4</td>\n",
       "    </tr>\n",
       "    <tr>\n",
       "      <th>1</th>\n",
       "      <td>['It can be hard to appreciate the notion that...</td>\n",
       "      <td>2</td>\n",
       "    </tr>\n",
       "    <tr>\n",
       "      <th>2</th>\n",
       "      <td>['Hi, so last night i was sitting on the ledge...</td>\n",
       "      <td>1</td>\n",
       "    </tr>\n",
       "    <tr>\n",
       "      <th>3</th>\n",
       "      <td>['I tried to kill my self once and failed badl...</td>\n",
       "      <td>0</td>\n",
       "    </tr>\n",
       "    <tr>\n",
       "      <th>4</th>\n",
       "      <td>['Hi NEM3030. What sorts of things do you enjo...</td>\n",
       "      <td>2</td>\n",
       "    </tr>\n",
       "    <tr>\n",
       "      <th>5</th>\n",
       "      <td>['Since I dont know what DBT is, would you min...</td>\n",
       "      <td>4</td>\n",
       "    </tr>\n",
       "    <tr>\n",
       "      <th>6</th>\n",
       "      <td>['No matter what you ever think, there will be...</td>\n",
       "      <td>4</td>\n",
       "    </tr>\n",
       "    <tr>\n",
       "      <th>7</th>\n",
       "      <td>['Dont see it as failing at killing yourself, ...</td>\n",
       "      <td>2</td>\n",
       "    </tr>\n",
       "    <tr>\n",
       "      <th>8</th>\n",
       "      <td>['The reason I have faith in our species abili...</td>\n",
       "      <td>4</td>\n",
       "    </tr>\n",
       "    <tr>\n",
       "      <th>9</th>\n",
       "      <td>['A book is usually what I do when Im getting ...</td>\n",
       "      <td>2</td>\n",
       "    </tr>\n",
       "    <tr>\n",
       "      <th>10</th>\n",
       "      <td>['Dont do it man.  Seriously this is making me...</td>\n",
       "      <td>3</td>\n",
       "    </tr>\n",
       "    <tr>\n",
       "      <th>11</th>\n",
       "      <td>['Whats up? Tell me. Im here for you. ', 'Wow....</td>\n",
       "      <td>4</td>\n",
       "    </tr>\n",
       "    <tr>\n",
       "      <th>12</th>\n",
       "      <td>['I wish I could give a shit about what would ...</td>\n",
       "      <td>1</td>\n",
       "    </tr>\n",
       "    <tr>\n",
       "      <th>13</th>\n",
       "      <td>['I have one question for you: whatre your int...</td>\n",
       "      <td>2</td>\n",
       "    </tr>\n",
       "    <tr>\n",
       "      <th>14</th>\n",
       "      <td>['You are not alone, my dear. You have two par...</td>\n",
       "      <td>2</td>\n",
       "    </tr>\n",
       "    <tr>\n",
       "      <th>15</th>\n",
       "      <td>['No you are not bothering anyone. View it lik...</td>\n",
       "      <td>1</td>\n",
       "    </tr>\n",
       "    <tr>\n",
       "      <th>16</th>\n",
       "      <td>['oh, doh.I had someone tell me similar recent...</td>\n",
       "      <td>2</td>\n",
       "    </tr>\n",
       "    <tr>\n",
       "      <th>17</th>\n",
       "      <td>['Im interested, since youve pretty much descr...</td>\n",
       "      <td>1</td>\n",
       "    </tr>\n",
       "    <tr>\n",
       "      <th>18</th>\n",
       "      <td>['No need for thanks it just makes me happy th...</td>\n",
       "      <td>0</td>\n",
       "    </tr>\n",
       "    <tr>\n",
       "      <th>19</th>\n",
       "      <td>['Live for others you say?', 'My trigger. Well...</td>\n",
       "      <td>2</td>\n",
       "    </tr>\n",
       "  </tbody>\n",
       "</table>\n",
       "</div>"
      ],
      "text/plain": [
       "                                                 Post  Label\n",
       "0   ['Its not a viable option, and youll be leavin...      4\n",
       "1   ['It can be hard to appreciate the notion that...      2\n",
       "2   ['Hi, so last night i was sitting on the ledge...      1\n",
       "3   ['I tried to kill my self once and failed badl...      0\n",
       "4   ['Hi NEM3030. What sorts of things do you enjo...      2\n",
       "5   ['Since I dont know what DBT is, would you min...      4\n",
       "6   ['No matter what you ever think, there will be...      4\n",
       "7   ['Dont see it as failing at killing yourself, ...      2\n",
       "8   ['The reason I have faith in our species abili...      4\n",
       "9   ['A book is usually what I do when Im getting ...      2\n",
       "10  ['Dont do it man.  Seriously this is making me...      3\n",
       "11  ['Whats up? Tell me. Im here for you. ', 'Wow....      4\n",
       "12  ['I wish I could give a shit about what would ...      1\n",
       "13  ['I have one question for you: whatre your int...      2\n",
       "14  ['You are not alone, my dear. You have two par...      2\n",
       "15  ['No you are not bothering anyone. View it lik...      1\n",
       "16  ['oh, doh.I had someone tell me similar recent...      2\n",
       "17  ['Im interested, since youve pretty much descr...      1\n",
       "18  ['No need for thanks it just makes me happy th...      0\n",
       "19  ['Live for others you say?', 'My trigger. Well...      2"
      ]
     },
     "execution_count": 89,
     "metadata": {},
     "output_type": "execute_result"
    }
   ],
   "source": [
    "import sklearn\n",
    "from sklearn.preprocessing import LabelEncoder\n",
    "label_encoder = LabelEncoder()\n",
    "df['Label'] = label_encoder.fit_transform(df['Label'])\n",
    "df.head(20)\n",
    "#4 - Supportive, 2 -> Idetation, 1 -> Behavior, 0-> Attempt 3-> Indicator"
   ]
  },
  {
   "cell_type": "code",
   "execution_count": 115,
   "id": "ee7e2bb7",
   "metadata": {},
   "outputs": [],
   "source": [
    "#splitting training and testing\n",
    "from sklearn.model_selection import train_test_split\n",
    "x = df[[\"Post\"]]\n",
    "y = df[[\"Label\"]]\n",
    "x_train,x_test,y_train,y_test = train_test_split(x,y,test_size=0.2)\n",
    "trainData = pd.concat([x_train,y_train],axis=1)\n",
    "testData = pd.concat([x_test,y_test],axis=1)\n",
    "testData = testData.reset_index(drop=True)\n",
    "trainData = trainData.reset_index(drop=True)"
   ]
  },
  {
   "cell_type": "code",
   "execution_count": 121,
   "id": "2c8a0aed",
   "metadata": {},
   "outputs": [],
   "source": [
    "#Saving\n",
    "testData.to_csv('testdata.csv',sep=',',index=False)\n",
    "trainData.to_csv(\"traindata.csv\",sep=',',index=False)"
   ]
  },
  {
   "cell_type": "code",
   "execution_count": 125,
   "id": "308d725c",
   "metadata": {},
   "outputs": [],
   "source": [
    "char_based = False\n",
    "if char_based:\n",
    "    tokenizer = lambda s: list(s) \n",
    "else:\n",
    "    tokenizer = lambda s: s.split()\n",
    "    \n",
    "Text = data.Field(preprocessing=cleanup_text, tokenize=tokenizer, batch_first=True, include_lengths=True)\n",
    "Label = data.Field(sequential=False, use_vocab=False, pad_token=None, unk_token=None)"
   ]
  },
  {
   "cell_type": "code",
   "execution_count": 131,
   "id": "65b4221d",
   "metadata": {},
   "outputs": [],
   "source": [
    "fields = [('text', Text), ('labels', Label)]\n",
    "train_data, test_data = data.TabularDataset.splits(\n",
    "    path='/home/isyum/Hackathon/',\n",
    "    train='traindata.csv',\n",
    "    test='testdata.csv',\n",
    "    format='csv',\n",
    "    fields=fields,\n",
    "    skip_header=True\n",
    ")"
   ]
  },
  {
   "cell_type": "code",
   "execution_count": 132,
   "id": "fb205569",
   "metadata": {},
   "outputs": [
    {
     "name": "stdout",
     "output_type": "stream",
     "text": [
      "{'text': [' Little', 'bit', 'of', 'both', 'I', 'suppose ', 'Ive', 'had', 'some', 'pretty', 'bad', 'anxiety panic', 'attacks', 'this', 'year', 'and', 'one', 'of', 'them', 'featured', 'a', 'lot', 'of', 'thoughts', 'of', 'Suicide ', 'I', 'realized', 'that', 'it', 'was', 'more', 'that', 'I', 'was', 'Social', 'fear', 'of', 'one', 'day', 'committing', 'Suicide', 'than', 'I', 'was', 'actually', 'doing', 'it ', 'but', 'it', 'was', 'one', 'hell', 'of', 'a', 'weekend ', 'I', 'found', 'this', 'subreddit', 'looking', 'for', 'advice ', 'and', 'since', 'then', 'I', 'just', 'kind', 'of', 'browse', 'through', 'it', 'once', 'in', 'a', 'while', 'just', 'in', 'case', 'theres', 'a', 'post', 'where', 'I', 'feel', 'I', 'can', 'help ', 'First', 'time', 'actually', 'commenting', 'though ', 'I', 'definitely', 'dont', 'have', 'my', 'life', 'together', 'though ', ' ', ' Oh', 'the', 'conversation', 'is', 'fine ', 'no', 'worries', 'about', 'that ', 'Im', 'also', 'a', '21', 'male ', 'but', 'Im', 'from', 'the', 'U S ', ' I', 'know', 'that', 'feeling ', 'Everyone', 'always', 'says', 'that', 'the', 'first', 'step', 'is', 'the', 'hardest ', 'but', 'I', 'think', 'the', 'second', 'one', 'is ', 'Ive', 'gained', 'some', 'weight', 'since', 'leaving', 'High', 'School ', 'not', 'too', 'terrible', 'but', 'enough', 'that', 'its', 'noticeable ', 'and', 'every', 'time', 'I', 'try', 'to', 'get', 'on', 'a', 'program', 'to', 'lose', 'it', 'I', 'end', 'up', 'giving', 'up ', 'But', 'this', 'past', 'year', 'I', 'started', 'going', 'to', 'the', 'gym', 'with', 'some', 'friends ', 'and', 'I', 'made', 'them', 'promise', 'me', 'that', 'they', 'would', 'drag', 'me', 'there', 'if', 'they', 'had', 'to', 'because', 'I', 'know', 'that', 'I', 'would', 'try', 'and', 'back', 'down ', 'And', 'even', 'though', 'the', 'first', 'week', 'sucked ', 'Ive', 'seen', 'some', 'pretty', 'great', 'improvement', 'in', 'my', 'muscles ', 'Is', 'there', 'anyone', 'in', 'your', 'life', 'that', 'could', 'help', 'keep', 'you', 'motivated ', ' ', ' Hey', 'man ', 'Im', 'down', 'to', 'talk', 'about', 'anything ', ' So', 'youre', 'responsible', 'for', 'why', 'everyone', 'assumes', 'I', 'want', 'to', 'become', 'a', 'teacher ', 'No ', 'but', 'really', 'that', 'is', 'an', 'amazing', 'coincidence ', 'Life', 'is', 'crazy Im', 'perfectly', 'cool', 'with', 'either', 'PMs', 'or', 'talking', 'on', 'here ', 'I', 'browse', 'Reddit', 'on', 'my', 'phone', 'pretty', 'frequently', 'so', 'Ill', 'see', 'either ', 'Have', 'a', 'good', 'night', 'man ', ' ', ' Maybe', 'opening', 'up', 'and', 'talking', 'to', 'these', 'people', 'would', 'really', 'help ', 'Even', 'if', 'they', 'do', 'live', 'far', 'away ', 'they', 'can', 'still', 'help', 'you ', 'My', 'best', 'friend', 'lives', 'almost', 'six', 'hours', 'away', 'from', 'me ', 'and', 'we', 'havent', 'lived', 'in', 'the', 'same', 'town', 'together', 'since', 'we', 'were', '12 ', 'But', 'I', 'know', 'I', 'can', 'always', 'call', 'him', 'if', 'I', 'need', 'something', 'and', 'he', 'knows', 'he', 'can', 'always', 'call', 'me ', 'I', 'think', 'your', 'friends', 'and', 'family', 'will', 'surprise', 'you ', 'As', 'for', 'the', 'transitional', 'period ', 'boy', 'do', 'I', 'feel', 'you', 'there ', 'Im', 'over', 'halfway', 'through', 'college ', 'but', 'Im', 'majoring', 'in', 'English', 'and', 'it', 'is', 'not', 'fun', 'to', 'have', 'everyone', 'constantly', 'tell', 'you', 'that', 'the', 'only', 'job', 'out', 'there', 'for', 'an', 'English', 'major', 'is', 'a', 'teaching', 'position ', 'It', 'makes', 'me', 'nervous', 'for', 'the', 'future ', 'but', 'Im', 'still', 'hanging', 'in', 'there ', 'What', 'are', 'you', 'planning', 'on', 'studying '], 'labels': '2'}\n"
     ]
    }
   ],
   "source": [
    "print(vars(train_data[2]))"
   ]
  },
  {
   "cell_type": "code",
   "execution_count": 138,
   "id": "1b5325b6",
   "metadata": {},
   "outputs": [
    {
     "name": "stdout",
     "output_type": "stream",
     "text": [
      "[' Pretty', 'sure', 'weve', 'dated', 'in', 'the', 'past ', 'When', 'I', 'read', 'your', 'screed', 'what', 'I', 'see', 'most', 'of', 'all', 'is', 'the', 'word', ' I ', 'It', 'is', 'abundantly', 'clear', 'to', 'me', 'that', 'the', 'only', 'thing', 'you', 'have', 'to', 'focus', 'on', 'is', 'yourself', 'and', 'you', 'hate', 'this', 'with', 'an', 'unbridled', 'passion ', 'Yet', 'you', 'turn', 'deeper', 'inward', 'which', 'makes', 'you', 'hate', ' more What', 'have', 'you', 'done', 'to', 'make', 'the', 'world', 'a', 'better', 'place', 'lately Whom', 'have', 'you', 'helped How', 'have', 'you', 'changed', 'your', 'environment', 'for', 'the', 'betterment', 'of', 'those', 'who', 'come', 'after', 'you You', 'speak', 'of', 'patients ', 'Im', 'guessing', 'your', 'ability', 'to', 'improve', 'the', 'livelihood', 'of', 'those', 'you', 'work', 'with', 'professionally', 'is', 'being', 'hampered', 'by', 'your', 'inner', 'experience', 'and', 'this', 'isnt', 'helping', 'your', 'well being', 'either ', 'Its', 'time', 'to', 'reset', 'the', 'clock Take', 'a', 'working', 'vacation ', 'Plant', 'trees', 'for', 'a', 'Asthenia ', 'Join', 'the', 'Peace', 'Corps ', 'Do', ' something ', 'wherein', 'you', 'are', 'out', 'of', 'your', 'comfort', 'zone ', 'doing', 'things', 'you', 'dont', 'know', 'how', 'to', 'do ', 'for', 'people', 'you', 'do', 'not', 'know ', 'Ctrl Alt Delete', 'your', 'day to day', 'and', 'see', 'what', 'changes ', 'It', 'seems', 'like', 'you', 'have', 'nothing', 'to', 'lose ', ' gt But', 'that', 'advice', 'you', 'gave', 'wasnt', 'always', 'valid ', 'Nowhere', 'did', 'I', 'say', 'it', 'was ', 'It', 'was', 'advice', 'for', 'exactly', 'one', 'person ', 'One', 'person', 'who', 'clearly', 'was', 'not', 'considering', 'his', 'situation', 'rationally ', 'yet', 'was', 'considering', 'his', 'behavior', 'rational ', 'The', 'key', 'to', 'such', 'situations', 'is', 'to', 'illuminate', 'the', 'irrationality', 'of', 'that', 'behavior', ' ', 'I', 'even', 'gave', 'examples', 'of', 'when', 'it', 'might', 'be', 'rational ', 'Yet', 'you', 'steadfastly', 'refuse', 'to', 'see', 'this gt I', 'feel', 'like', 'itd', 'be', 'pretty', 'rational ', 'Ill', 'consider', 'doing', 'an', 'X post', 'shortly Ive', 'already', 'seen', 'some', 'of', 'your', 'situation ', 'You', 'have', 'professional', 'training ', 'you', 'have', 'a', 'daughter ', 'you', 'have', 'a', 'whole', 'lot', 'to', 'live', 'for ', 'It', 'is', ' not ', 'rational', 'to', 'conflate', ' Im', 'in', 'a', 'shitty', 'job', 'market ', 'with', ' I', 'should', 'just', 'kill', 'myself gt What', 'you', 'said', 'was', 'untrue ', 'no', 'matter', 'who', 'you', 'said', 'it', 'to What', 'I', 'said', 'was', ' youre', 'not', 'thinking', 'rationally ', 'Thats', 'as', 'true', 'as', 'true', 'can', 'be ', 'When', 'a', '21 year old', 'with', 'a', 'viable', 'social', 'network', 'says', ' I', 'have', 'no', 'future ', 'it', 'is', 'not', 'a', 'rational', 'statement ', 'Ill', 'say', 'for', 'the', 'umpteenth', 'time', ' ', 'there', 'are', 'rational', 'times', 'to', 'contemplate', 'suicide ', 'I', 'delineated', 'a', 'few', 'in', 'my', 'response ', 'My', 'advice', 'to', 'the', 'OP', 'was', 'that', ' HIS ', 'situation', 'was', 'not', 'rational ', 'Yet', 'you', 'keep', 'saying', ' thats', 'not', 'true', 'for', 'me ', 'and', 'its', 'not', 'true', 'always NO', 'SHIT So', 'let', 'me', 'reiterate', ' ', 'this', 'entire', 'thread', 'is', 'a', 'full stop ', 'all hands on deck', 'attempt', 'by', 'every', 'interested', 'and', 'disinterested', 'party', 'to', 'influence', 'the', 'behavior', 'of', 'the', ' SUBMITTER ', 'Thats', 'not', 'you ', 'thats', 'not', 'anyone', 'else ', 'and', 'its', 'anything', 'but', 'universal ', 'I', 'stand', '100 ', 'behind', 'everything', 'I', 'said ', 'and', 'I', 'stand', '100 ', 'behind', 'the', 'notion', 'that', 'were', 'you', 'to', 'commit', 'suicide ', 'it', 'would', 'not', 'be', 'a', 'rational', 'act ', 'either But', 'Im', 'not', 'going', 'to', 'continue', 'to', 'debate', 'here ', 'in', 'this', 'thread ', 'whether', 'or', 'not', 'what', 'I', 'wrote', 'for', ' him ', 'makes', 'sense', 'for', ' you ', 'because', 'right', 'here ', 'Right', 'now ', 'This', 'isnt', 'about', 'you You', 'wanna', 'make', 'it', 'about', 'you ', 'submit', 'something ', 'Until', 'then ', 'go', 'pester', 'someone', 'else ', ' Totally ', 'd00d ', 'Break', 'some', 'shit ', 'When', 'I', 'was', 'good', 'and', 'Depression ', 'and', 'good', 'and', ' angry ', 'I', 'used', 'to', 'take', 'glass', 'jars', 'into', 'the', 'canyon', 'and', 'destroy', 'them', 'with', 'nunchucks ', 'Good', 'times ', ' Been', 'there ', 'done', 'that ', 'man ', 'Im', 'going', 'to', 'tell', ' you ', 'what', 'nobody', 'told', ' me Teenagers', 'arent', 'in', 'their', 'right', 'mind Serious ', 'It', 'isnt', 'a', 'psychological', 'thing', 'or', 'anything', ' ', 'its', 'pure', 'anatomy ', 'Your', 'brain', 'is', 'rewiring', 'a', 'crapload', 'of', 'neurons', 'in', 'your', 'teens', 'and', 'that', 'process', 'makes', 'you', 'think', 'truly', 'stupid', 'things', 'are', 'good', 'ideas ', 'Youre', 'drowning', 'in', 'an', 'overdose', 'of', 'hormones', 'that', 'your', 'body', 'needs', 'but', 'your', 'mind', 'really', 'doesnt ', 'Youre', 'being', 'overwhelmed', 'from', 'a', 'biochemical', 'standpoint', 'AND', 'a', 'neurological', 'standpoint', ' as', 'well', 'as ', 'having', 'to', 'spend', 'multiple', 'hours', 'a', 'day', 'with', 'beknighted', 'idiots', 'suffering', 'through', 'the', 'exact', 'same', 'bullshit', 'as', 'yourself I', 'wont', 'even', 'get', 'into', 'whatevers', 'going', 'on', 'in', 'your', 'life', 'because', 'its', 'inconsequential', 'to', 'the', 'problem ', ' youre', 'in', 'a', 'short term', 'medical', 'crisis', 'that', 'is', 'entirely', 'chemical ', 'Itll', 'get', 'better ', 'just', 'like', 'zits ', 'just', 'like', 'excessive', 'sweating ', 'just', 'like', 'errant', 'boners', 'in', 'math', 'class Trust', 'me ', 'Youll', 'have', 'a', 'much', 'better', 'handle', 'on', 'this', 'stuff', 'when', 'you', 'can', 'think', 'straight ', 'Bookmark', 'this', 'link ', 'Set', 'a', 'date', 'on', 'your', 'calendar ', 'Come', 'back', 'in', 'a', 'year', 'and', 'tell', 'me', 'whats', 'changed', 'and', 'whats', 'stayed', 'the', 'same ', 'Suicide', 'is', 'forever ', '17', 'is', 'just', 'a', 'year ', 'You', 'might', 'not', 'be', 'un fucked', 'in', 'the', 'head', 'by', '18 ', 'but', 'Ill', 'wager', 'youll', 'be', 'on', 'your', 'way ', ' So', 'what', 'do', 'you', 'do', 'if', 'suicide', 'is', 'the', 'rational ', 'logical', 'choice You', 'recognize', 'that', 'your', 'perspective', 'on', ' rational ', 'and', ' logical ', 'is', 'completely', 'and', 'utterly', 'blown Ill', 'get', 'back', 'to', 'being', 'nice', 'in', 'just', 'a', 'minute ', 'but', 'for', 'this', 'brief', 'sentence', ' SNAP', 'THE', 'FUCK', 'OUT', 'OF', 'IT Know', 'who', 'else', 'was', 'a', 'college', 'dropout', 'from', 'a', 'small', 'village', 'in', 'Eastern', 'Europe ', ' Nikola', 'Tesla http en wikipedia org wiki Nikola tesla Know', 'who', 'pumped', 'Excessive', 'upper', 'gastrointestinal', 'gas', 'and', 'parked', 'cars', 'before', 'getting', 'rich', 'enough', 'to', 'not', 'really', 'care', 'when', 'Eddie', 'Griffin', 'crashed', 'his', 'Ferrari', 'Enzo ', ' Daniel', 'Sadek http www bloomberg com apps news pid newsarchive amp sid aTqNSIm9G To Know', 'who', 'dropped', 'out', 'of', 'High', 'School', 'and', 'lived', 'with', 'her', 'mom', 'in', 'a', 'car ', ' Hilary', 'Swank http en wikipedia org wiki Hilary Swank You', 'know', 'the', 'difference', 'between', 'a', 'college', 'grad', 'and', 'a', 'college', 'dropout ', 'The', 'former', 'thinks', 'his', ' 100 000', 'slip', 'of', 'paper', 'will', 'help', 'him', 'get', 'a', ' 30k', 'a', 'year', 'job ', 'The', 'latter', 'is', 'just', 'as', 'hopeless ', 'but', 'better', 'off', 'financially ', ' ', ' ', 'Look ', 'You', 'cant', ' logic ', 'your', 'way', 'out', 'of', 'Depression ', 'You', 'cant', ' argue ', 'your', 'way', 'out', 'of', 'Emotional', 'upset', 'situations ', 'You', 'also', 'cant', ' logic ', 'your', 'way', 'into', 'them ', 'I', 'read', 'your', 'headline', 'and', 'was', 'expecting', ' I', 'have', 'terminal', 'cancer ', 'or', ' I', 'just', 'committed', 'capital', 'murder', 'and', 'theyre', 'going', 'to', 'catch', 'me ', 'or', ' My', 'arm', 'has', 'been', 'crushed', 'by', 'this', 'boulder', 'for', 'five', 'days', 'and', 'Im', 'starting', 'to', 'drink', 'my', 'own', 'urine http en wikipedia org wiki Aron Ralston ', 'But', 'no ', 'your', ' rational ', 'logical ', 'choice', 'is', ' I', 'have', 'a', 'loving', 'family ', 'a', 'spectacular', 'command', 'of', 'the', 'English', 'language ', 'a', 'roof', 'over', 'my', 'head', 'and', 'Ive', 'managed', 'to', 'turn', 'a', 'temporary', 'setback', 'into', 'a', 'life ender Know', 'what', 'drives', 'friends', 'away ', 'Depression ', 'Know', 'what', 'makes', 'things', 'appear', 'hopeless ', 'Depression ', 'Know', 'what', 'keeps', 'us', 'from', 'thinking', 'straight ', 'Depression ', 'Know', 'what', 'blows', 'our', 'perspective', 'all', 'to', 'fuck ', 'Depression Know', 'whats', 'an', 'organic ', 'biological', 'disorder ', 'Depression Your', 'parents', ' barely', 'cope ', 'with', 'you', 'being', 'gay ', 'That', 'means', 'they', 'havent', 'thrown', 'you', 'out', 'of', 'the', 'house ', 'even', 'though', 'youre', 'a', 'friendless ', 'disappointing', 'college', 'dropout', 'who', 'likes', 'teh', 'cock ', 'You', 'have', 'absolutely', ' nothing ', 'to', 'lose', 'by', 'saying', ' Mom ', 'dad ', 'Im', 'really', 'Depression ', 'I', 'thought', 'about', 'killing', 'myself ', 'But', 'Im', 'starting', 'to', 'realize', 'that', 'really', 'Im', 'just', 'feeling', 'trapped', 'and', 'as', 'if', 'my', 'life', 'is', 'at', 'a', 'dead', 'end ', 'Can', 'you', 'help', 'me ', 'Can', 'you', 'give', 'me', 'ideas', 'as', 'to', 'what', 'to', 'do ', 'Because', 'the', 'long', 'life', 'I', 'have', 'ahead', 'of', 'me', 'does', 'not', 'seem', 'like', 'its', 'worth', 'living', 'right', 'now', 'and', 'Ill', 'do', 'anything', 'to', 'change', 'that You', 'also', 'said', ' almost ', 'no', 'friends ', 'That', 'means', 'you', 'have', 'at', 'least', 'a', 'couple ', 'Nows', 'the', 'time', 'to', 'test', 'those', 'friendships ', 'Know', 'what', 'a', 'friend', 'is ', 'Someone', 'you', 'can', 'obligate', 'with', 'your', 'troubles', 'because', 'you', 'know', 'theyd', 'do', 'the', 'same', 'for', 'you ', 'Go', 'to', 'your', 'closest', 'friend', 'and', 'say', ' Im', 'sorry', 'Ive', 'been', 'such', 'a', 'drag', 'to', 'be', 'around', 'lately ', 'man ', 'but', 'Im', 'really', 'Depression ', 'Id', 'love', 'your', 'help', 'to', 'bring', 'me', 'out', 'of', 'it ', 'and', 'see', 'what', 'happens It', 'seems', 'to', 'me', 'that', 'you', 'have', 'more', 'of', 'a', 'social', 'network', 'than', 'a', 'lot', 'of', 'people', 'contemplating', 'suicide ', 'It', 'also', 'seems', 'to', 'me', 'that', 'if', 'you', 'really', ' could ', 'think', 'clearly', 'about', 'this ', 'you', 'wouldnt', 'be', 'contemplating', 'suicide ', ' And', 'if', 'I', 'can', 'get', 'you', 'to', 'recognize', 'that', 'youre ', ' NOT ', ' thinking', 'clearly ', 'your', 'healing', 'can', 'start Know', 'who', 'else', 'wasnt', 'likely', 'to', ' have', 'offspring Oscar', 'Wilde http en wikipedia org wiki Oscar wilde Alan', 'Turing http en wikipedia org wiki Alan Turing James', 'Randi http en wikipedia org wiki James Randi Theres', 'a', 'world', 'of', 'difference', 'between', ' offspring ', 'and', ' legacy ', 'Dont', 'let', 'yours', 'be', ' the', 'kid', 'who', 'thought', 'the', 'world', 'ended', 'after', 'he', 'couldnt', 'cut', 'college ', ' Depressions', 'a', 'bitch ', 'man ', 'The', 'worst', 'part', 'is', 'what', 'youre', 'experiencing', 'isnt', 'entirely', 'related', 'to', 'whats', 'going', 'on', 'around', 'you', ' ', 'a', 'whole', 'bunch', 'of', 'it', 'is', 'a', 'biochemical', 'imbalance This', 'might', 'get', 'better', 'on', 'its', 'own', ' ', 'mine', 'did ', 'Well ', 'after', 'I', 'moved', 'and', 'completely', 'changed', 'my', 'life ', 'But', 'itll', 'get', 'better', 'faster', 'if', 'you', 'enlist', 'outside', 'help Youre', 'sick ', 'You', 'can', 'either', 'tough', 'it', 'out', 'like', 'an', 'idiot', 'or', 'you', 'can', 'enlist', 'whatever', 'health', 'is', 'around', 'you ', 'I', 'dont', 'know', 'if', 'you', 'have', 'benefits', 'through', 'work', 'but', 'if', 'you', 'do ', 'consult', 'a', 'psychiatrist', 'or', 'counselor Good', 'luck ', 'and', 'stick', 'around ', 'Were', 'here', 'for', 'you ', ' What', 'would', 'your', 'friends', 'say', 'if', 'you', 'told', 'them', 'about', 'the', '9mm Try', 'it ', 'See', 'what', 'happens ', ' ', ' All', 'right', 'then What ', 'exactly ', 'would', 'make', 'you', 'happy ', 'Dying', 'is', 'not', 'an', 'option ', 'Presume', 'youre', 'annoyingly', 'immortal ', 'What', 'do', 'you', 'satisfy', 'yourself', 'with Douglas', 'Adams', 'wrote', 'about', 'an', 'immortal', 'man', 'in', 'one', 'of', 'the', 'Hitchhikers', 'books ', 'This', 'man ', 'so', 'annoyed', 'with', 'immortality ', 'tooled', 'all', 'around', 'the', 'universe', 'insulting', 'people', 'in', 'alphabetical', 'order ', 'Would', 'that', 'give', 'you', 'purpose You', 'are', 'filled', 'with', 'self hatred ', 'yet', 'you', 'are', 'also', 'filled', 'with', 'hatred', 'for', 'the', 'rest', 'of', 'the', 'world ', 'Have', 'you', 'considered', 'becoming', 'a', 'super villain Because', 'in', 'all', 'honesty ', 'what', 'I', 'see', 'is', 'a', 'lot', 'of', 'excuses', 'as', 'to', 'why', ' you ', 'cant', 'change ', 'and', 'why', ' the', 'rest', 'of', 'the', 'world ', 'isnt', 'worth', 'your', 'effort ', 'Youre', 'stuck', 'in', 'a', 'rut', 'and', 'quite', 'comfortable', 'to', 'sit', 'there', 'bitching', 'about', 'things ', ' There', 'will', 'be', 'other', 'girls ', 'They', 'will', 'all', 'be', 'better', 'than', 'this', 'one You', 'are', 'not', 'alone ', 'We', 'are', 'listening You', 'arent', 'going', 'to', 'be', 'this', 'sad', 'again ', 'Youre', 'young ', 'That', 'sounds', 'flippant ', 'and', 'Im', 'sorry ', 'The', 'fact', 'of', 'the', 'matter', 'is', 'that', 'biologically', 'speaking ', 'your', 'bloodstream', 'is', 'being', 'hammered', 'by', 'so', 'many', 'different', 'hormones', 'that', 'half', 'of', 'the', 'moods', 'you', 'feel', 'dont', 'have', 'anything', 'to', 'do', 'with', 'you', 'at', 'all It', 'will', 'get', 'much', 'better ', 'trust', 'me ', 'And', 'someday', 'soon ', 'you', 'will', 'be', 'able', 'to', 'use', 'this', 'Pain', 'you', 'feel', 'right', 'now', 'to', 'reach', 'out', 'to', 'someone', 'else ', 'someone', 'who', 'is', 'feeling', 'what', 'you', 'can', 'only', 'remember Hang', 'in', 'there ', 'bud ', 'Take', 'it', 'from', 'me', ' ', 'the', 'Pain', 'youre', 'in', 'is', 'giving', 'you', 'a', 'far', 'greater', 'ability', 'to', 'appreciate', 'joy', 'than', 'those', 'whose', 'lives', 'have', 'been', 'easy ', ' gt Im', 'self', 'taught ', 'though', 'with', 'a', 'fair', 'bit', 'of', 'experience', 'and', 'skills Even', 'better ', 'All', 'hail', 'the', 'auto didact', 'for', 'he', 'is', 'best', 'at', 'bootstrapping gt I', 'dont', 'have', 'a', 'daughter', 'in', 'anything', 'but', 'a', 'financial', 'sense ', 'I', 'have', 'no', 'involvement', 'in', 'her', 'life ', 'nor', 'do', 'I', 'expect', 'to', 'ever', 'have', 'a', 'good', 'relationship', 'with', 'her ', 'what', 'with', 'the', 'whole', 'her mother being the symbol of all that is evil', 'bit Sounds', 'like', 'youre', 'letting', 'the', 'bitch', 'win ', 'Why', 'would', 'you', 'want', 'to', 'do', 'that ', 'Did', 'you', 'ever', 'think', 'that', 'maybe', 'your', 'daughter', ' wants ', 'to', 'know', 'her', 'father', 'and', 'that', 'by', 'taking', 'your', 'standpoint', 'youre', 'actively', 'abetting', 'her', 'mothers', 'schemes gt However', 'for', 'me ', 'even', 'in', 'a', 'good', 'job', 'market', 'I', 'have', 'no', 'real', 'financial', 'independence', 'and', 'cant', 'even', 'afford', 'a', 'small', 'apartment ', 'Thats', 'still', 'a', 'long', 'goddamn', 'way', 'from', ' I', 'should', 'off', 'myself ', 'Hell ', 'dude ', 'buy', 'a', 'surplus', 'school', 'bus ', 'put', 'a', 'franklin', 'stove', 'in', 'it', 'and', 'live', 'in', 'it ', 'Plenty', 'of', 'my', 'friends', 'set', 'up', '1500sqft', 'domiciles', 'for', 'less', 'than', ' 1000 gt Every', 'time', 'I', 'get', 'a', 'raise', 'or', 'a', 'better', 'paying', 'job ', 'she', 'somehow', 'learns', 'of', 'it', 'immediately', 'and', 'my', 'support', 'payments', 'go', 'up', 'a', 'couple', 'of', 'weeks', 'later Itty', 'boo ', 'Start', 'doing', 'handicrafts', 'on', 'the', 'side ', 'Wash', 'dishes', 'under', 'the', 'table ', 'Not', 'all', 'income', 'is', ' declared ', 'income', 'and', 'when', 'youre', 'talking', 'about', ' killing', 'yourself ', 'or', ' bouncing', 'a', 'few', 'nights', 'a', 'Asthenia', 'under', 'the', 'table ', 'there', 'really', 'isnt', 'any', 'parity', 'of', 'thought gt I', 'dont', 'actually', 'have', 'much', 'of', 'anything', 'to', 'live', 'for ', 'my', 'life', 'for', 'over', 'six', 'years', 'now', 'has', 'been', 'one', 'endless', 'day', 'of', 'hell ', 'Ive', 'had', 'it', 'up', 'to', 'here', 'with', 'hearing', 'about', 'my', 'obligations', 'to', 'other', 'people', 'who', 'all', 'so', 'casually', 'dismiss', 'any', 'towards', 'me ', 'Slaves', 'have', 'a', 'duty', 'to', 'escape run', 'to', 'fuckin', 'mexico ', 'then ', ' gt No', 'trust', 'me ', 'go', 'back', 'and', 'read', 'it ', 'thats', 'not', 'what', 'you', 'said I', 'know', 'what', 'I', 'wrote ', 'and', 'I', 'know', 'who', 'I', 'wrote', 'it', 'to ', 'It', 'wasnt', 'to', 'you gt Heres', 'a', 'suggestion ', 'relating', 'to', 'people', 'as', 'fellow', 'human', 'beings', 'rather', 'than', 'objects', 'to', 'be', 'manipulated', 'might', 'be', 'a', 'better', 'approach Self involved', 'much ', 'Ive', 'spent', 'the', 'afternoon', 'swapping', 'tales', 'with', 'YOU ', 'SPECIFICALLY ', 'despite', 'the', 'fact', 'that', 'you', 'were', 'completely', 'unknown', 'to', 'me', 'before', 'getting', 'insulting', 'and', 'condescending', 'to', 'a', 'total', 'stranger ', ' objects', 'to', 'be', 'manipulated ', 'Youre', 'the', 'one', 'who', 'keeps', 'asking', 'for', 'peoples', 'help', 'just', 'so', 'he', 'can', 'shut', 'down', 'any', 'idea', 'they', 'come', 'up', 'with', 'to', 'continue', 'to', 'stew', 'in', 'your', 'own', 'juices ', 'Heres', 'MY', 'suggestion ', 'If', 'you', 'want', 'help ', 'ask', 'for', 'it', 'and', 'listen', 'to', 'peoples', 'responses ', 'Imagine', 'what', 'sort', 'of', 'life', 'youd', 'have', 'if', 'you', 'followed', 'through', 'with', 'all', 'of', 'them', 'to', 'their', 'completion ', 'rather', 'than', 'just', 'shutting', 'things', 'down', 'so', 'you', 'dont', 'have', 'to', 'venture', 'out', 'of', 'your', 'comfortable', 'cage ', ' slaves', 'have', 'a', 'duty', 'to', 'escape ', 'Youre', 'so', 'adamantly', 'opposed', 'to', 'change', 'it', 'astounds', 'me ', 'Yet', 'when', 'you', 'crank', 'about', 'people', 'who', ' casually', 'dismiss', 'obligations', 'towards', 'me ', 'you', 'ignore', 'the', 'fact', 'that', 'youve', 'got', 'a', 'living ', 'breathing', 'daughter', ' ', 'THAT', 'YOURE', 'PAYING', 'FOR', ' ', 'that', 'you', 'arent', 'even', 'bothering', 'to', 'consider ', ' Go', 'for', 'the', 'divorce ', 'Its', 'reversible ', ' Nowhere', 'did', 'I', 'say', ' man', 'up ', 'What', 'I', 'said', 'was', ' So', 'what', 'do', 'you', 'do', 'if', 'suicide', 'is', 'the', 'rational ', 'logical', 'choice You', 'recognize', 'that', 'your', 'perspective', 'on', ' rational ', 'and', ' logical ', 'is', 'completely', 'and', 'utterly', 'blown I', 'further', 'advised', 'the', 'kid', ' gt You', 'have', 'absolutely', 'nothing', 'to', 'lose', 'by', 'saying gt Mom ', 'dad ', 'Im', 'really', 'Depression ', 'I', 'thought', 'about', 'killing', 'myself ', 'But', 'Im', 'starting', 'to', 'realize', 'that', 'really', 'Im', 'just', 'feeling', 'trapped', 'and', 'as', 'if', 'my', 'life', 'is', 'at', 'a', 'dead', 'end ', 'Can', 'you', 'help', 'me ', 'Can', 'you', 'give', 'me', 'ideas', 'as', 'to', 'what', 'to', 'do ', 'Because', 'the', 'long', 'life', 'I', 'have', 'ahead', 'of', 'me', 'does', 'not', 'seem', 'like', 'its', 'worth', 'living', 'right', 'now', 'and', 'Ill', 'do', 'anything', 'to', 'change', 'that gt You', 'also', 'said', ' almost ', 'no', 'friends ', 'That', 'means', 'you', 'have', 'at', 'least', 'a', 'couple ', 'Nows', 'the', 'time', 'to', 'test', 'those', 'friendships ', 'Know', 'what', 'a', 'friend', 'is ', 'Someone', 'you', 'can', 'obligate', 'with', 'your', 'troubles', 'because', 'you', 'know', 'theyd', 'do', 'the', 'same', 'for', 'you ', 'Go', 'to', 'your', 'closest', 'friend', 'and', 'say', ' Im', 'sorry', 'Ive', 'been', 'such', 'a', 'drag', 'to', 'be', 'around', 'lately ', 'man ', 'but', 'Im', 'really', 'Depression ', 'Id', 'love', 'your', 'help', 'to', 'bring', 'me', 'out', 'of', 'it ', 'and', 'see', 'what', 'happens gt It', 'seems', 'to', 'me', 'that', 'you', 'have', 'more', 'of', 'a', 'social', 'network', 'than', 'a', 'lot', 'of', 'people', 'contemplating', 'suicide ', 'It', 'also', 'seems', 'to', 'me', 'that', 'if', 'you', 'really', 'could', 'think', 'clearly', 'about', 'this ', 'you', 'wouldnt', 'be', 'contemplating', 'suicide gt And', 'if', 'I', 'can', 'get', 'you', 'to', 'recognize', 'that', 'youre', 'NOT', 'thinking', 'clearly ', 'your', 'healing', 'can', 'start Now', 'Ill', 'ask', 'again', ' ', 'you', 'feeling', 'like', 'killing', 'yourself ', 'Then', 'make', 'a', 'post', 'explaining', 'why ', 'Quit', 'second guessing', 'what', 'I', 'say', 'to', 'someone', ' other ', 'than', 'you', 'and', 'then', 'saying', ' your', 'advice', 'doesnt', 'work', 'for', 'me ', 'cuz', 'you', 'know', 'what ', 'no', 'shit ', ' thats', 'why', 'I', 'didnt', 'write', 'it', 'to', 'you ', ' yeah ', 'thats', 'cuz', 'youre', 'Depression ', 'Look', ' ', 'whos', 'the', 'professional', 'here ', 'Whos', 'had', 'eight', 'years', 'or', 'more', 'of', 'school', 'to', 'learn', 'how', 'to', 'deal', 'with', 'people', 'with', 'mental', 'illness ', 'Whos', 'the', 'one', 'making', 'over', 'a', 'c note', 'an', 'hour', 'to', 'try', 'and', 'help', 'people', 'who', 'cant', 'help', 'themselves ', 'How', 'could', 'your', 'therapists', 'inability', 'to', 'help', 'you', 'come', 'back', 'on', ' you ', 'Thats', 'like', 'blaming', 'the', 'car', 'when', 'its', 'water', 'pump', 'keeps', 'leaking', 'rather', 'than', 'blaming', 'the', 'mechanic You', 'hired', 'a', 'professional ', 'That', 'professional', 'isnt', 'up', 'to', 'snuff ', 'If', 'this', 'were', 'your', 'car', 'we', 'were', 'talking', 'about ', 'you', 'wouldnt', 'say', ' Bad', 'car ', 'That', 'mechanic', 'worked', ' so', 'hard ', 'to', 'make', 'you', 'run', 'better', 'and', 'what', 'thanks', 'does', 'he', 'get Youd', 'hire', 'another', 'mechanic Which', 'do', 'you', 'think', 'is', 'more', 'complicated', ' ', 'a', 'car', 'engine', 'or', 'your', 'psyche ', 'Thats', 'why', 'they', 'get', 'the', 'big', 'bucks ', 'it', 'also', 'means', 'that', 'just', 'because', 'one', 'person', 'cant', 'help', 'you', 'doesnt', 'mean', ' no', 'person ', 'can', 'help', 'you ', 'Give', 'it', 'another', 'go', 'with', 'someone', 'else ', 'Its', 'not', 'like', 'you', 'have', 'anything', 'to', 'lose ', ' Yours', 'is', 'a', 'problem', 'of', 'chronic', 'overwork', 'and', 'chronic', 'underappreciation ', 'These', 'are', 'short', 'term', 'problems ', 'Yours', 'is', 'a', 'Injury', 'of', 'muscle', 'solution You', 'say', 'you', 'hate', 'your', 'family', 'and', 'have', 'no', 'problem', 'leaving', 'them', 'to', 'rot ', 'Have', 'you', 'thought', 'of', 'doing', 'that ', 'Just', 'drive', 'away ', 'Drop', 'the', 'car', 'off', 'at', 'the', 'nearest', 'lot ', 'take', 'your', ' 300', 'for', 'it', 'and', 'hop', 'on', 'a', 'Greyhound', 'to', 'anywhere', 'else Try', 'that', 'first ', 'If', 'it', 'makes', 'you', 'feel', 'better ', 'keep', 'trying ', 'Take', 'care', 'of', ' you ', 'for', 'a', 'change', ' ', 'maybe', 'that', 'means', 'panhandling ', 'maybe', 'that', 'means', 'day', 'labor ', 'who', 'knows ', 'If', 'it', 'makes', 'you', 'feel', 'worse ', 'then', 'you', ' do ', 'care', 'about', 'your', 'family', 'and', 'you', 'care', 'about', 'leaving', 'them', 'in', 'the', 'lurch ', 'And', 'they', 'need', 'to', 'know', 'that', 'theyre', 'killing', 'you ', 'And', 'that', 'you', 'cant', 'carry', 'them', 'any', 'more You', 'need', 'change ', 'That', 'much', 'is', 'clear ', 'But', ' change ', 'does', 'not', 'mean', ' death ', ' gt My', 'parents', 'have', 'already', 'dealt', 'with', 'my', 'Depression', 'in', 'high', 'school ', 'Many', 'tears', 'were', 'shed', 'and', 'many', 'melodramatic', 'moments', 'had ', 'They', 'would', 'not', 'care', 'for', 'it', 'again ', 'I', 'wouldnt', 'if', 'I', 'were', 'them Im', 'sure ', 'Riddle', 'me', 'this ', 'though ', 'Batman', ' ', 'you', 'think', 'theyd', 'rather', 'deal', 'with', 'burying', 'you ', 'You', 'think', 'theyd', 'rather', 'wonder', 'for', 'the', 'rest', 'of', 'their', 'lives', 'if', 'they', 'could', 'have', 'said', 'something', 'different ', 'done', 'something', 'different ', 'their', 'baby', 'might', 'still', 'be', 'here gt As', 'for', 'my', 'gayness ', 'they', 'never', 'accepted', 'it ', 'They', 'do', 'realize', 'rationally', 'thats', 'its', 'not', 'something', 'a', 'person', 'can', 'be', 'blamed', 'for', 'and', 'that', 'its', 'not', 'a', 'choice ', 'But', 'theyre', 'religious', 'so', 'they', 'cant', 'be', 'fine', 'with', 'it Again ', 'theres', 'a', 'world', 'of', 'difference', 'between', ' dont', 'accept', 'it ', 'and', ' dont', 'care', 'if', 'you', 'live', 'or', 'die gt When', 'I', 'say', 'I', 'have', ' almost ', 'no', 'friends', 'I', 'mean', 'that', 'I', 'have', 'acquaintances ', 'Currently', 'only', 'two', 'Im', 'sort', 'of', 'close', 'with ', 'Theyre', 'apparently', 'dating', 'now ', 'good', 'for', 'them ', 'Anyway ', 'one', 'is', 'a', 'Depression', 'loser', 'who', 'hasnt', 'had', 'a', 'girlfriend', 'in', 'years ', 'has', 'no', 'friends', 'and', 'gave', 'up', 'on', 'life ', 'The', 'other', 'is', 'a', 'bipolar', 'punk', 'girl', 'who', 'has', 'shit', 'of', 'her', 'own', 'to', 'deal', 'with ', 'They', 'know', 'I', 'am', 'Depression', 'but', 'they', 'think', 'Depression', 'is', 'a', 'normal', 'condition Sounds', 'like', 'all', 'three', 'of', 'you', 'could', 'stand', 'to', 'support', 'each', 'other', 'a', 'little gt I', 'agree', 'with', 'the', 'poster', 'who', 'attacked', 'you', 'below ', 'Listing', 'all', 'those', 'famous', 'people', 'really', 'does', 'nothing Hey ', 'man ', 'Youre', 'the', 'one', 'who', 'said', 'life', 'was', 'over ', 'Im', 'just', 'pointing', 'out', 'that', 'people', 'who', 'had', 'it', 'far', 'shittier', 'than', 'you', 'went', 'on', 'to', 'do', 'great', 'things ', 'If', 'youre', 'going', 'to', 'insist', 'that', 'your', 'life', 'is', ' over ', 'Im', 'going', 'to', 'insist', 'you', 'have', 'no', 'perspective', 'on', 'the', 'matter ', 'Yeah ', 'they', 'had', 'lucky', 'breaks ', 'Yeah ', 'they', 'made', 'friends', 'in', 'high', 'places ', 'Yeah ', 'they', 'were', 'ready', 'to', 'stoop', 'really', 'low', 'in', 'order', 'to', 'go', 'high ', 'How', 'is', 'that', 'any', 'different', 'from', 'you ', 'Youre', 'what ', '21 ', 'Do', 'you', ' really ', 'think', 'that', 'there', 'are', 'no', 'more', 'opportunities', 'waiting', 'for', 'you ', 'How', 'can', 'you', 'even', 'begin', 'to', 'defend', 'that gt I', 'think', 'what', 'you', 'fail', 'to', 'see', 'is', 'that', 'this', 'is', 'a', 'life', 'ender Damn', 'right ', 'Ive', 'been', 'on', 'this', 'world', 'roughly', 'double', 'the', 'amount', 'of', 'time', 'you', 'have', 'and', 'you', 'know', 'what ', 'You', 'arent', 'thinking', 'straight ', 'You', 'have', 'no', 'fucking', 'clue', 'what', 'lies', 'ahead', 'for', 'you ', 'so', 'quit', 'pretending', 'that', 'its', 'all', 'bullshit', 'from', 'here ', 'http www youtube com verify age next url http 3A www youtube com watch 3Fv 3DwjmkCbDwsNA ', ' Youre', 'not', 'an', 'outsider ', 'Youre', 'just', 'deeper', 'in', 'the', 'valley', 'than', 'the', 'rest', 'of', 'us Hell', 'matter', 'to', 'you', 'until', 'the', 'end', 'of', 'your', 'days ', 'If', 'you', 'give', 'it', 'a', 'shot ', 'though ', 'youll', 'discover', 'that', 'the', 'world', 'is', ' full ', 'of', 'people', 'who', 'will', 'matter', 'to', 'you ', 'If', 'you', 'hate', 'the', 'stares', 'you', 'get ', 'why', 'dont', 'you', 'take', 'out', 'the', 'piercings ', 'Wear', 'a', 'hat ', 'You', 'never', 'know', ' ', 'change', 'can', 'be', 'good Do', 'something', 'for', 'me', 'tomorrow ', 'Go', 'out ', 'completely', 'unchanged ', 'Take', 'a', 'walk', 'in', 'the', 'park', 'or', 'something ', 'For', 'every', 'weird', 'look', 'you', 'get ', 'smile ', 'Smile', 'as', 'big', 'as', 'you', 'know', 'how ', 'I', 'guarantee', 'you', 'most', 'people', 'will', 'smile', 'back We', 'all', 'feel', 'like', 'complete', 'outsiders ', 'Yet', 'none', 'of', 'us', 'are ', 'I', 'feel', 'you', 'from', 'all', 'the', 'way', 'over', 'here ', 'and', 'I', 'really', 'wish', 'you', 'didnt', 'Pain', 'so', 'much ', 'If', 'I', 'could', 'hug', 'you ', 'I', 'would ', ' There', 'are', 'people', 'who', 'firmly', 'believe', 'that', 'high', 'school', 'is', 'the', 'best', 'time', 'of', 'their', 'life ', 'Theyre', 'generally', 'correct ', 'they', 'will', 'spend', 'the', 'rest', 'of', 'their', 'days', 'remembering', 'the', 'glory', 'of', 'Homecoming ', 'thinking', 'about', 'the', 'adulation', 'basked', 'upon', 'them', 'by', 'nerds', 'and', 'geeks', ' not ', 'as', 'they', 'made', 'their', 'tyrannical', 'rounds', 'about', 'the', 'small', 'pond', 'that', 'shall', 'forever', 'define', 'their', 'lives There', 'are', 'people', 'who', 'firmly', 'believe', 'that', 'High', 'School', 'is', 'the', 'worst', 'time', 'of', 'their', 'life ', 'and', 'they', 'too', 'are', 'generally', 'correct ', 'For', 'unlike', 'the', 'jocks', 'and', 'popular', 'kids', 'and', 'well adapted', 'drones', 'that', 'make', 'up', 'the', 'Alpha', 'class', 'of', 'any', 'creche ', 'their', 'potential', 'is', 'unlimited', 'and', 'their', 'boundaries', 'are', 'undefined ', 'It', 'is', 'only', 'through', 'reaching', 'for', 'that', 'which', 'is', 'beyond', 'that', 'greatness', 'can', 'be', 'achieved Everyone', 'has', 'a', 'nightmare', 'relationship', 'somewhere', 'in', 'their', 'past ', 'Know', 'and', 'understand', 'that', 'in', 'order', 'to', 'appreciate', 'the', 'full', 'spectrum', 'of', 'life ', 'one', 'must', 'know', 'black', 'as', 'well', 'as', 'white ', 'Those', 'who', 'have', 'not', 'seen', 'things', 'as', 'dark', 'as', 'you', 'have', 'cannot', 'truly', 'appreciate', 'the', 'brights', ' ', 'yours', 'is', 'a', 'costly', 'and', 'consuming', 'gift', 'that', 'you', 'had', 'no', 'choice', 'but', 'to', 'accept ', 'but', 'now', 'that', 'it', 'is', 'yours ', 'make', 'the', 'most', 'of', 'it Good', 'luck ', 'And', 'please', 'dont', 'bring', 'up', 'Twilight', 'again ', ' Lets', 'just', 'go', 'ahead', 'and', 'read', 'the', ' whole', 'exchange http i imgur com UDOxL png ', 'shall', 'we Now', ' ', 'I', 'sent', 'you', 'here ', 'I', 'dont', 'wanna', 'see', 'anybody', 'shoot', 'themselves ', 'My', 'family', 'has', 'dealt', 'with', 'suicide', 'plenty I', 'also', 'dont', 'want', 'to', 'pick', 'a', 'fight', 'in', ' r suicidewatch ', 'This', 'is', 'hallowed', 'ground', 'as', 'far', 'as', 'Im', 'concerned ', 'These', 'are', 'good', 'people ', 'and', 'they', 'dont', 'need', 'our', 'petty', 'bickering', 'getting', 'in', 'the', 'way', 'of', 'healing', 'and', 'help I', 'will', 'say', 'this A', 'casual', 'snide', 'comment', 'from', 'a', 'stranger', 'youve', 'never', 'met', 'is', 'about', 'the', 'stupidest', 'reason', 'to', 'off', 'yourself', 'Ive', 'ever', 'heard Take', 'a', 'deep', 'breath ', 'Watch', 'the', 'sunset ', 'Listen', 'to', 'some', 'Beach', 'Boys', 'records', ' dont', 'have', 'any ', 'Congratulations ', 'now', 'you', 'have', 'a', 'quest ', 'The', 'fact', 'that', 'youd', 'consider', ' or', 'pretend', 'to', 'consider ', 'shuffling', 'off', 'this', 'mortal', 'coil', 'to', 'gain', 'the', 'upper', 'hand', 'in', 'a', 'petty', 'discussion', 'with', 'someone', 'youve', 'ever', 'met', 'should', 'clue', 'you', 'in', 'to', 'the', 'fact', 'that', 'youre', 'not', 'thinking', 'straight ', 'If', 'youre', 'going', 'to', 'die', 'to', 'spite', 'somebody ', 'for', 'fuck', 'sake', 'pick', 'someone', 'more', 'important', 'than', ' me Ill', 'also', 'make', 'this', 'point', ' ', 'youre', 'still', 'externalizing', 'your', 'problems ', 'whatever', 'they', 'may', 'be ', 'Youre', 'looking', 'for', 'reasons', 'from', 'others ', 'youre', 'looking', 'for', 'motivations', 'from', 'others ', 'youre', 'looking', 'for', 'excuses', 'from', 'others ', 'What', 'do', ' you ', 'think', 'about', 'it ', 'Just', ' you ', 'Not', 'me ', 'not', 'anybody', 'else ', 'not', 'whoever', 'you', 'feel', 'has', 'wronged', 'you', 'or', 'righted', 'you ', 'Just', ' you Yeah ', 'I', 'get', 'it ', ' You ', 'feel', 'like', 'killing', 'yourself ', 'Well ', 'heres', 'this', 'asshole', 'who', 'thinks', 'youre', 'a', 'whiney ass', 'titty', 'baby', ' you', 'are ', 'who', 'wants', 'to', 'make', 'your', 'problems', 'the', 'worlds', 'problems', ' you', 'do ', 'and', 'I', ' still ', 'think', 'you', 'should', 'stick', 'around Everybody', 'has', 'off', 'days ', 'We', 'dont', 'make', 'them', 'better', 'by', 'getting', 'other', 'peoples', 'permission', 'or', 'encouragement', 'to', 'kill', 'ourselves ', 'We', 'make', 'them', 'better', 'by', 'coming', 'up', 'with', 'a', 'better ', 'more', 'sustainable', 'revenge', 'than', 'eating', 'a', 'gun', 'to', 'show', 'your', 'resolve', 'on', 'the', ' internet If', 'youre', 'serious', 'about', 'this ', 'pick', 'up', 'the', 'phone', 'and', 'call', 'one', 'of', 'the', 'numerous', 'suicide', 'hotlines', 'in', 'the', 'sidebar ', 'Hell ', 'PM', 'me', 'and', 'Ill', 'give', 'you', 'my', 'phone', 'number ', 'You', 'know', 'how', 'everybody', 'makes', 'fun', 'of', 'that', 'kid', 'who', 'offed', 'himself', 'over', ' Dungeons', 'and', 'Dragons http www tabula rasa info Roleplaying RoleplayingMyths html ', 'Youre', 'gonna', 'make', 'that', 'mutherfucker', 'look', 'like', 'Rambo Dont', 'kill', 'yourself ', 'But', 'above', 'all ', 'dont', 'kill', 'yourself', 'over', 'a', 'tedious', 'exchange', 'with', 'a', 'total', 'stranger', 'that', 'consumed', 'maybe', 'ten', 'minutes', 'of', 'the', 'day ', 'On', 'the', ' stupid', 'ways', 'to', 'die ', 'scale', 'thats', 'somewhere', 'between', ' scratched', 'a', 'mosquito', 'bite', 'until', 'it', 'went', 'septic ', 'and', ' blew', 'his', 'head', 'off', 'because', 'the', 'gym', 'teacher', 'gave', 'him', 'detention ', 'like', 'my', 'buddy', 'Tims', 'big', 'brother', 'did', 'in', '8th', 'grade ', ' gt Btw ', 'listing', 'a', 'bunch', 'of', 'famous', 'people', 'who', 'had', 'it', 'bad', 'is', 'pretty', 'fucking', 'rude Fuck', 'off ', 'You', 'see', 'a', 'bunch', 'of', 'famous', 'people', 'who', 'had', 'it', 'bad ', 'I', 'see', 'a', 'bunch', 'of', 'famous', 'people', 'who', 'didnt', 'used', 'to', 'be', 'famous', 'and', 'who', 'had', 'the', 'same', 'challenges', 'as', 'the', 'OP ', 'One', 'of', 'us', 'is', 'trying', 'to', 'help ', 'The', 'other', 'is', 'being', 'a', 'jerk gt Not', 'having', 'a', 'degree', 'is', 'a', 'big', 'deal I', 'mix', 'TV', 'for', 'a', 'living ', 'The', 'supervisor', 'on', 'one', 'of', 'my', 'shows', ' ', 'the', 'guy', 'that', 'hires', 'me', ' ', 'didnt', 'graduate', 'high', 'school ', 'Dont', 'tell', 'me', 'what', 'to', 'do', ' ', 'you', 'clearly', 'have', 'too', 'narrow', 'a', 'worldview', 'to', 'evaluate', 'anything', 'I', 'have', 'to', 'say ', ' Pay', 'attention ', 'though ', 'tardling ', 'thats', 'not', 'the', 'situation', 'were', 'talking', 'about', 'here ', 'which', 'is', 'what', 'I', 'spent', 'a', 'ridiculous', 'amount', 'of', 'time', 'pointing', 'out By', 'the', 'way ', 'when', 'did', 'it', 'become', ' de', 'rigeur ', 'to', 'throw', 'flames', 'in', ' r suicidewatch ', 'I', 'mean ', 'the', 'kids', 'already', 'dead ', 'What', 'the', 'fuck', 'point', 'is', 'there', 'in', 'being', 'a', 'rank', 'prick', 'with', 'absolutely', 'zero', 'reading', 'comprehension', 'when', 'I', ' wasnt', 'even', 'talking', 'to', 'you ', ' Boxing Brazilian', 'Jiu', 'Jitsu Mui', 'Thai Find', 'something', 'physical ', ' full', 'contact ', 'that', 'will', 'allow', 'you', 'to', 'Pain', 'and', 'be', 'Pain The', 'exercise', 'will', 'do', 'you', 'good ', 'as', 'will', 'the', 'violence ', 'From', 'there ', 'you', 'shall', 'find', 'peace ', ' Who', 'says', 'you', 'have', 'to', ' make', 'it ', 'Know', 'why', 'I', 'didnt', 'link', 'to', 'the', 'millions', 'of', 'people', 'who', 'had', 'shitty', 'childhoods', 'who', 'are', 'now', 'leading', 'happy ', 'fulfilling', 'lives cuz', 'if', 'you', 'think', 'you', 'need', 'to', 'be', 'Hilary', 'Swank', 'to', 'be', 'happy ', 'youve', 'got', 'other', 'problems', 'than', 'Depression ', ' You', 'dont', 'suck ', 'you', 'dont', 'feel', 'listened', 'to ', 'Some', 'people', ' never ', 'work', 'through', 'their', 'issues', 'with', 'their', 'parents', ' ', 'and', 'one', 'of', 'them', 'was', 'our', 'president', 'for', 'eight', 'years Im', 'not', 'going', 'to', 'tell', 'you', ' not ', 'to', 'kill', 'yourself ', 'Actually ', 'yeah', 'I', 'am', ' ', 'would', 'you', 'expect', 'anything', 'less ', 'But', 'perhaps', 'more', 'importantly ', 'dont', 'kill', 'yourself', 'because', 'you', 'have', 'a', 'shitty', 'therapist You', 'need', 'to', 'find', 'a', 'better', 'therapist ', 'The', 'person', 'who', 'has', 'been', 'working', 'with', 'you', 'has', 'clearly', 'done', 'all', 'he', 'can', ' ', 'maybe', 'thats', 'because', 'hes', 'not', 'Tired', 'good', 'at', 'his', 'job ', 'maybe', 'its', 'because', 'youre', 'a', 'tough', 'nut', 'to', 'crack ', 'Either', 'way ', 'will', 'you', 'do', 'me', 'the', 'favor', 'of', 'trying', 'a', 'different', 'therapist', 'for', 'a', 'while', 'before', 'you', 'do', 'anything', 'Injury', 'of', 'muscle ', ' My', 'uncle', 'committed', 'suicide', 'in', '1952 I', 'was', 'born', 'in', '1974 I', 'had', 'to', 'deal', 'with', 'my', 'mom', 'freaking', 'out', 'every', 'time', 'I', 'didnt', 'call', 'home', 'on', 'time', 'because', 'that', 'meant', 'Id', 'killed', 'myself and', 'the', 'fact', 'that', 'she', 'figured', 'by', 'the', 'time', 'you', 'hit', '38 ', 'youve', 'seen', 'twice', 'what', 'you', 'need', 'to', 'see', ' since', 'her', 'brother', 'died', 'at', '19 because', 'my', 'fucking', 'uncle ', 'who', 'died', '22', 'years', 'before', 'I', 'was', 'even', 'born ', 'couldnt', 'hack', 'Harvard Suicide', 'is', 'a', 'dick', 'move ', 'Youre', 'fucking', 'up', 'the', 'lives', 'of', 'people', 'who', 'arent', 'even', 'living', 'yet ', ' Then', 'ask', ' me ', 'dont', 'say', ' what', 'youre', 'telling', 'that', 'kid', 'is', 'wrong ', 'By', 'the', 'way ', 'you', 'didnt', 'say', ' I', 'feel', 'like', 'killing', 'myself', 'because', 'my', 'parents', 'dont', 'fully', 'accept', 'the', 'fact', 'that', 'Im', 'gay', 'and', 'I', 'feel', 'trapped', 'in', 'Eastern', 'Europe', 'with', 'no', 'education ', 'You', 'said', ' Conniving', 'baby', 'mamma', 'who', 'I', 'begged', 'not', 'to', 'have', 'my', 'child', 'and', 'ruin', 'my', 'relationship', 'with', 'the', 'woman', 'I', 'loved', 'did', 'it ', 'then', 'takes', 'most', 'of', 'my', 'income ', 'I', 'have', 'no', 'money ', 'no', 'realistic', 'prospects', 'for', 'a', 'family', 'or', 'good', 'education ', 'no', 'chance', 'of', 'ever', 'pursuing', 'my', 'dreams ', 'Fed', 'up', 'with', 'unrewarding ', 'slave like', 'existence', 'and', 'need', 'alternatives Those', 'two', 'experiences', 'dont', 'meet', 'at', 'any', 'single', 'point ', 'And ', 'having', 'read', 'your', 'link ', 'it', 'seems', 'that', 'you', 'arent', 'at', 'all', 'interested', 'in', 'getting', 'advice', ' ', 'youre', 'interested', 'in', 'shutting', 'down', 'a', 'whole', 'bunch', 'of', 'reasonable', 'advice', 'so', 'that', 'you', 'can', 'continue', 'to', 'feel', 'sorry', 'for', 'yourself So', ' ', 'are', 'you', 'feeling', 'like', 'killing', 'yourself ', 'Then', 'we', 'should', 'talk', 'about', 'that ', 'You', 'should', 'make', 'a', 'post', 'and', 'we', 'can', 'talk ', 'This', 'is', 'a', 'Tired', 'supportive', 'forum', 'for', 'stuff', 'like', 'that ', 'But', 'when', 'Im', 'not', 'talking', 'to', 'you', ' ', 'Im', 'talking', 'to', 'a', 'person', 'threatening', 'to', 'kill', 'themselves', ' ', 'the', 'arguments', 'that', 'are', 'convincing', 'to', 'you', 'two', 'days', 'later', 'have', 'little', 'to', 'do', 'with', 'whats', 'convincing', 'to', 'them And', 'hey', ' ', 'I', 'spent', 'the', 'weekend', 'thinking', 'the', 'kid', 'was', 'dead ', 'Turns', 'out', 'he', 'isnt ', 'So', 'maybe', 'it', 'worked I', 'care', 'a', 'lot', 'more', 'about', 'what', ' he ', 'thinks', 'than', 'what', ' you ', 'think ']\n"
     ]
    },
    {
     "data": {
      "text/plain": [
       "'2'"
      ]
     },
     "execution_count": 138,
     "metadata": {},
     "output_type": "execute_result"
    }
   ],
   "source": [
    "print(train_data[0].text)\n",
    "train_data[0].labels"
   ]
  },
  {
   "cell_type": "code",
   "execution_count": 141,
   "id": "9cb6f6d6",
   "metadata": {},
   "outputs": [],
   "source": [
    "import random"
   ]
  },
  {
   "cell_type": "code",
   "execution_count": 142,
   "id": "a62ef44f",
   "metadata": {},
   "outputs": [],
   "source": [
    "import random\n",
    "train_data, valid_data = train_data.split(split_ratio=0.8, random_state=random.seed(200))"
   ]
  },
  {
   "cell_type": "code",
   "execution_count": 145,
   "id": "1fec6b06",
   "metadata": {},
   "outputs": [],
   "source": [
    "Text.build_vocab(train_data, valid_data, max_size=5000)\n",
    "Label.build_vocab(train_data)\n",
    "vocab_size = len(Text.vocab)"
   ]
  },
  {
   "cell_type": "code",
   "execution_count": 149,
   "id": "71c01ab9",
   "metadata": {},
   "outputs": [],
   "source": [
    "device = torch.device('cuda' if torch.cuda.is_available() else 'cpu')\n",
    "train_iterator, valid_iterator, test_iterator = data.BucketIterator.splits((train_data, valid_data, test_data),\n",
    "        batch_size = 50,\n",
    "        sort_key = lambda x: len(x.text), sort_within_batch = True,\n",
    "        device = device)"
   ]
  },
  {
   "cell_type": "markdown",
   "id": "7ee6353f",
   "metadata": {},
   "source": [
    "### CNN"
   ]
  },
  {
   "cell_type": "code",
   "execution_count": 189,
   "id": "adbaef97",
   "metadata": {},
   "outputs": [],
   "source": [
    "lr = 1e-4\n",
    "batch_size = 50\n",
    "dropout_keep_prob = 0.5\n",
    "embedding_size = 300\n",
    "max_document_length = 100  # each sentence has until 100 words\n",
    "dev_size = 0.8 # split percentage to train\\validation data\n",
    "max_size = 5000 # maximum vocabulary size\n",
    "seed = 1\n",
    "num_classes = 3\n",
    "num_hidden_nodes = 93\n",
    "hidden_dim2 = 128\n",
    "num_layers = 2  # LSTM layers\n",
    "bi_directional = False \n",
    "num_epochs = 7"
   ]
  },
  {
   "cell_type": "code",
   "execution_count": 196,
   "id": "e21afe90",
   "metadata": {},
   "outputs": [],
   "source": [
    "import torch\n",
    "import torch.nn as nn\n",
    "from torch.nn.utils.rnn import pack_padded_sequence, pad_packed_sequence\n",
    "from torch.autograd import Variable\n",
    "\n",
    "class LSTM(nn.Module):\n",
    "\n",
    "    # define all the layers used in model\n",
    "    def __init__(self, vocab_size, embedding_dim, lstm_units, hidden_dim , num_classes, lstm_layers,\n",
    "                 bidirectional, dropout, pad_index, batch_size):\n",
    "        super().__init__()\n",
    "        self.embedding = nn.Embedding(vocab_size, embedding_dim, padding_idx = pad_index)\n",
    "        self.lstm = nn.LSTM(embedding_dim,\n",
    "                            lstm_units,\n",
    "                            num_layers=lstm_layers,\n",
    "                            bidirectional=bidirectional,\n",
    "                            batch_first=True)\n",
    "        num_directions = 2 if bidirectional else 1\n",
    "        self.fc1 = nn.Linear(lstm_units * num_directions, hidden_dim)\n",
    "        self.fc2 = nn.Linear(hidden_dim, num_classes)\n",
    "        self.relu = nn.ReLU()\n",
    "        self.dropout = nn.Dropout(dropout)\n",
    "        self.lstm_layers = lstm_layers\n",
    "        self.num_directions = num_directions\n",
    "        self.lstm_units = lstm_units\n",
    "    \n",
    "    def init_hidden(self, batch_size):\n",
    "        h = torch.zeros(self.lstm_layers * self.num_directions, batch_size, self.lstm_units)\n",
    "        c = torch.zeros(self.lstm_layers * self.num_directions, batch_size, self.lstm_units)\n",
    "        return h, c\n",
    "    \n",
    "\n",
    "    def forward(self, text, text_lengths):\n",
    "        batch_size = text.shape[0]\n",
    "        h_0, c_0 = self.init_hidden(batch_size)\n",
    "\n",
    "        embedded = self.embedding(text)\n",
    "        packed_embedded = pack_padded_sequence(embedded, text_lengths, batch_first=True)\n",
    "        output, (h_n, c_n) = self.lstm(packed_embedded, (h_0, c_0))\n",
    "        output_unpacked, output_lengths = pad_packed_sequence(output, batch_first=True)\n",
    "        out = output_unpacked[:, -1, :]        \n",
    "        rel = self.relu(out)\n",
    "        dense1 = self.fc1(rel)\n",
    "        drop = self.dropout(dense1)\n",
    "        preds = self.fc2(drop)\n",
    "        return preds"
   ]
  },
  {
   "cell_type": "code",
   "execution_count": 197,
   "id": "6f8c5524",
   "metadata": {},
   "outputs": [],
   "source": [
    "def create_iterator(train_data, valid_data, test_data, batch_size, device):\n",
    "    data.BucketIterator.splits((train_data, valid_data, test_data),\n",
    "        batch_size = batch_size,\n",
    "        sort_key = lambda x: len(x.text), \n",
    "        sort_within_batch = True,\n",
    "        device = device)\n",
    "    return train_iterator, valid_iterator, test_iterator"
   ]
  },
  {
   "cell_type": "code",
   "execution_count": 198,
   "id": "54049c57",
   "metadata": {},
   "outputs": [],
   "source": [
    "def accuracy(probs, target):\n",
    "  predictions = probs.argmax(dim=1)\n",
    "  corrects = (predictions == target)\n",
    "  accuracy = corrects.sum().float() / float(target.size(0))\n",
    "  return accuracy"
   ]
  },
  {
   "cell_type": "code",
   "execution_count": 199,
   "id": "18b9bf69",
   "metadata": {},
   "outputs": [],
   "source": [
    "def train(model, iterator, optimizer, criterion):\n",
    "    epoch_loss = 0\n",
    "    epoch_acc = 0\n",
    "    for batch in iterator:\n",
    "        optimizer.zero_grad()\n",
    "        text, text_lengths = batch.text\n",
    "        predictions = model(text, text_lengths)\n",
    "        loss = criterion(predictions, batch.labels.squeeze())\n",
    "        acc = accuracy(predictions, batch.labels)        \n",
    "        loss.backward()\n",
    "        optimizer.step()\n",
    "        epoch_loss += loss.item()\n",
    "        epoch_acc += acc.item()\n",
    "    return epoch_loss / len(iterator), epoch_acc / len(iterator)"
   ]
  },
  {
   "cell_type": "code",
   "execution_count": 200,
   "id": "670b8c9c",
   "metadata": {},
   "outputs": [],
   "source": [
    "def evaluate(model, iterator, criterion):\n",
    "    epoch_loss = 0\n",
    "    epoch_acc = 0\n",
    "    model.eval()\n",
    "    with torch.no_grad():\n",
    "        for batch in iterator:\n",
    "            text, text_lengths = batch.text\n",
    "            predictions = model(text, text_lengths).squeeze(1)\n",
    "            loss = criterion(predictions, batch.labels)\n",
    "            acc = accuracy(predictions, batch.labels)\n",
    "            epoch_loss += loss.item()\n",
    "            epoch_acc += acc.item()\n",
    "    return epoch_loss / len(iterator), epoch_acc / len(iterator)"
   ]
  },
  {
   "cell_type": "code",
   "execution_count": 201,
   "id": "338deb23",
   "metadata": {},
   "outputs": [],
   "source": [
    "def run_train(epochs, model, train_iterator, valid_iterator, optimizer, criterion, model_type):\n",
    "    best_valid_loss = float('inf')\n",
    "\n",
    "    for epoch in range(epochs):\n",
    "\n",
    "        # train the model\n",
    "        train_loss, train_acc = train(model, train_iterator,    optimizer, criterion)\n",
    "\n",
    "        # evaluate the model\n",
    "        valid_loss, valid_acc = evaluate(model, valid_iterator, criterion)\n",
    "\n",
    "        # save the best model\n",
    "        if valid_loss < best_valid_loss:\n",
    "            best_valid_loss = valid_loss\n",
    "            torch.save(model.state_dict(), 'saved_weights'+'_'+model_type+'.pt')\n",
    "\n",
    "        print(f'\\tTrain Loss: {train_loss:.3f} | Train Acc: {train_acc * 100:.2f}%')\n",
    "        print(f'\\t Val. Loss: {valid_loss:.3f} |  Val. Acc: {valid_acc * 100:.2f}%')"
   ]
  },
  {
   "cell_type": "code",
   "execution_count": 202,
   "id": "2c91a6a6",
   "metadata": {},
   "outputs": [
    {
     "ename": "TypeError",
     "evalue": "new() received an invalid combination of arguments - got (list, int), but expected one of:\n * (*, torch.device device)\n      didn't match because some of the arguments have invalid types: (!list!, !int!)\n * (torch.Storage storage)\n * (Tensor other)\n * (tuple of ints size, *, torch.device device)\n * (object data, *, torch.device device)\n",
     "output_type": "error",
     "traceback": [
      "\u001b[0;31m---------------------------------------------------------------------------\u001b[0m",
      "\u001b[0;31mTypeError\u001b[0m                                 Traceback (most recent call last)",
      "Cell \u001b[0;32mIn[202], line 23\u001b[0m\n\u001b[1;32m     21\u001b[0m \u001b[38;5;66;03m# loss function\u001b[39;00m\n\u001b[1;32m     22\u001b[0m loss_func \u001b[38;5;241m=\u001b[39m nn\u001b[38;5;241m.\u001b[39mCrossEntropyLoss()\n\u001b[0;32m---> 23\u001b[0m lstm_model \u001b[38;5;241m=\u001b[39m \u001b[43mLSTM\u001b[49m\u001b[43m(\u001b[49m\u001b[43mvocab_size\u001b[49m\u001b[43m,\u001b[49m\u001b[43m \u001b[49m\u001b[43membedding_size\u001b[49m\u001b[43m,\u001b[49m\u001b[43m \u001b[49m\u001b[43mn_filters\u001b[49m\u001b[43m,\u001b[49m\u001b[43m \u001b[49m\u001b[43mfilter_sizes\u001b[49m\u001b[43m,\u001b[49m\u001b[43m \u001b[49m\u001b[43mpool_size\u001b[49m\u001b[43m,\u001b[49m\u001b[43m \u001b[49m\u001b[43mhidden_size\u001b[49m\u001b[43m,\u001b[49m\u001b[43m \u001b[49m\u001b[43mnum_classes\u001b[49m\u001b[43m,\u001b[49m\u001b[43m \u001b[49m\u001b[43mdropout_keep_prob\u001b[49m\u001b[43m,\u001b[49m\u001b[38;5;241;43m0\u001b[39;49m\u001b[43m,\u001b[49m\u001b[38;5;241;43m50\u001b[39;49m\u001b[43m)\u001b[49m\n\u001b[1;32m     24\u001b[0m \u001b[38;5;66;03m# optimization algorithm\u001b[39;00m\n\u001b[1;32m     25\u001b[0m optimizer \u001b[38;5;241m=\u001b[39m torch\u001b[38;5;241m.\u001b[39moptim\u001b[38;5;241m.\u001b[39mAdam(lstm_model\u001b[38;5;241m.\u001b[39mparameters(), lr\u001b[38;5;241m=\u001b[39mlr)\n",
      "Cell \u001b[0;32mIn[196], line 19\u001b[0m, in \u001b[0;36mLSTM.__init__\u001b[0;34m(self, vocab_size, embedding_dim, lstm_units, hidden_dim, num_classes, lstm_layers, bidirectional, dropout, pad_index, batch_size)\u001b[0m\n\u001b[1;32m     13\u001b[0m \u001b[38;5;28mself\u001b[39m\u001b[38;5;241m.\u001b[39mlstm \u001b[38;5;241m=\u001b[39m nn\u001b[38;5;241m.\u001b[39mLSTM(embedding_dim,\n\u001b[1;32m     14\u001b[0m                     lstm_units,\n\u001b[1;32m     15\u001b[0m                     num_layers\u001b[38;5;241m=\u001b[39mlstm_layers,\n\u001b[1;32m     16\u001b[0m                     bidirectional\u001b[38;5;241m=\u001b[39mbidirectional,\n\u001b[1;32m     17\u001b[0m                     batch_first\u001b[38;5;241m=\u001b[39m\u001b[38;5;28;01mTrue\u001b[39;00m)\n\u001b[1;32m     18\u001b[0m num_directions \u001b[38;5;241m=\u001b[39m \u001b[38;5;241m2\u001b[39m \u001b[38;5;28;01mif\u001b[39;00m bidirectional \u001b[38;5;28;01melse\u001b[39;00m \u001b[38;5;241m1\u001b[39m\n\u001b[0;32m---> 19\u001b[0m \u001b[38;5;28mself\u001b[39m\u001b[38;5;241m.\u001b[39mfc1 \u001b[38;5;241m=\u001b[39m \u001b[43mnn\u001b[49m\u001b[38;5;241;43m.\u001b[39;49m\u001b[43mLinear\u001b[49m\u001b[43m(\u001b[49m\u001b[43mlstm_units\u001b[49m\u001b[43m \u001b[49m\u001b[38;5;241;43m*\u001b[39;49m\u001b[43m \u001b[49m\u001b[43mnum_directions\u001b[49m\u001b[43m,\u001b[49m\u001b[43m \u001b[49m\u001b[43mhidden_dim\u001b[49m\u001b[43m)\u001b[49m\n\u001b[1;32m     20\u001b[0m \u001b[38;5;28mself\u001b[39m\u001b[38;5;241m.\u001b[39mfc2 \u001b[38;5;241m=\u001b[39m nn\u001b[38;5;241m.\u001b[39mLinear(hidden_dim, num_classes)\n\u001b[1;32m     21\u001b[0m \u001b[38;5;28mself\u001b[39m\u001b[38;5;241m.\u001b[39mrelu \u001b[38;5;241m=\u001b[39m nn\u001b[38;5;241m.\u001b[39mReLU()\n",
      "File \u001b[0;32m~/anaconda3/envs/Hackathon/lib/python3.8/site-packages/torch/nn/modules/linear.py:72\u001b[0m, in \u001b[0;36mLinear.__init__\u001b[0;34m(self, in_features, out_features, bias)\u001b[0m\n\u001b[1;32m     70\u001b[0m \u001b[38;5;28mself\u001b[39m\u001b[38;5;241m.\u001b[39min_features \u001b[38;5;241m=\u001b[39m in_features\n\u001b[1;32m     71\u001b[0m \u001b[38;5;28mself\u001b[39m\u001b[38;5;241m.\u001b[39mout_features \u001b[38;5;241m=\u001b[39m out_features\n\u001b[0;32m---> 72\u001b[0m \u001b[38;5;28mself\u001b[39m\u001b[38;5;241m.\u001b[39mweight \u001b[38;5;241m=\u001b[39m Parameter(\u001b[43mtorch\u001b[49m\u001b[38;5;241;43m.\u001b[39;49m\u001b[43mTensor\u001b[49m\u001b[43m(\u001b[49m\u001b[43mout_features\u001b[49m\u001b[43m,\u001b[49m\u001b[43m \u001b[49m\u001b[43min_features\u001b[49m\u001b[43m)\u001b[49m)\n\u001b[1;32m     73\u001b[0m \u001b[38;5;28;01mif\u001b[39;00m bias:\n\u001b[1;32m     74\u001b[0m     \u001b[38;5;28mself\u001b[39m\u001b[38;5;241m.\u001b[39mbias \u001b[38;5;241m=\u001b[39m Parameter(torch\u001b[38;5;241m.\u001b[39mTensor(out_features))\n",
      "\u001b[0;31mTypeError\u001b[0m: new() received an invalid combination of arguments - got (list, int), but expected one of:\n * (*, torch.device device)\n      didn't match because some of the arguments have invalid types: (!list!, !int!)\n * (torch.Storage storage)\n * (Tensor other)\n * (tuple of ints size, *, torch.device device)\n * (object data, *, torch.device device)\n"
     ]
    }
   ],
   "source": [
    "device = torch.device('cuda' if torch.cuda.is_available() else 'cpu') \n",
    "path='/home/isyum/Hackathon/'\n",
    "path_data = os.path.join(path, \"data\")\n",
    "\n",
    "# parameters\n",
    "model_type = \"LSTM\"\n",
    "data_type = \"token\" # or: \"morph\"\n",
    "\n",
    "char_based = True\n",
    "if char_based:\n",
    "    tokenizer = lambda s: list(s) # char-based\n",
    "else:\n",
    "    tokenizer = lambda s: s.split() # word-based\n",
    "\n",
    "Text.build_vocab(train_data, max_size=max_size)\n",
    "Label.build_vocab(train_data)\n",
    "vocab_size = len(Text.vocab)\n",
    "\n",
    "train_iterator, valid_iterator, test_iterator = create_iterator(train_data, valid_data, test_data, batch_size, device)\n",
    "\n",
    "# loss function\n",
    "loss_func = nn.CrossEntropyLoss()\n",
    "lstm_model = LSTM(vocab_size, embedding_size, n_filters, filter_sizes, pool_size, hidden_size, num_classes, dropout_keep_prob,0,50)\n",
    "# optimization algorithm\n",
    "optimizer = torch.optim.Adam(lstm_model.parameters(), lr=lr)\n",
    "# train and evaluation\n",
    "if (to_train):\n",
    "    # train and evaluation\n",
    "    run_train(num_epochs, lstm_model, train_iterator, valid_iterator, optimizer, loss_func, model_type)\n",
    "\n",
    "# load weights\n",
    "lstm_model.load_state_dict(torch.load(os.path.join(path, \"saved_weights_LSTM.pt\")))\n",
    "# predict\n",
    "test_loss, test_acc = evaluate(lstm_model, test_iterator, loss_func)\n",
    "print(f'Test Loss: {test_loss:.3f} | Test Acc: {test_acc * 100:.2f}%')"
   ]
  },
  {
   "cell_type": "code",
   "execution_count": null,
   "id": "8fe30d3d",
   "metadata": {},
   "outputs": [],
   "source": []
  }
 ],
 "metadata": {
  "kernelspec": {
   "display_name": "Python 3 (ipykernel)",
   "language": "python",
   "name": "python3"
  },
  "language_info": {
   "codemirror_mode": {
    "name": "ipython",
    "version": 3
   },
   "file_extension": ".py",
   "mimetype": "text/x-python",
   "name": "python",
   "nbconvert_exporter": "python",
   "pygments_lexer": "ipython3",
   "version": "3.8.17"
  }
 },
 "nbformat": 4,
 "nbformat_minor": 5
}
